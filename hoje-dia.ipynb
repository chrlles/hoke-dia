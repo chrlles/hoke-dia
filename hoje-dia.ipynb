{
 "cells": [
  {
   "cell_type": "code",
   "execution_count": 29,
   "id": "8d5d3e32",
   "metadata": {},
   "outputs": [],
   "source": [
    "from datetime import datetime"
   ]
  },
  {
   "cell_type": "code",
   "execution_count": 30,
   "id": "f9fa67e5",
   "metadata": {},
   "outputs": [
    {
     "data": {
      "text/plain": [
       "datetime.datetime(2022, 2, 13, 17, 30, 17, 521371)"
      ]
     },
     "execution_count": 30,
     "metadata": {},
     "output_type": "execute_result"
    }
   ],
   "source": [
    "data = datetime.now()\n",
    "data"
   ]
  },
  {
   "cell_type": "code",
   "execution_count": 31,
   "id": "c6b518f4",
   "metadata": {},
   "outputs": [],
   "source": [
    "data_hoje = f' A data de hoje é {data}'\n",
    "hoje = f' A data de hoje formatada é {data:%d/%m/%Y}'"
   ]
  },
  {
   "cell_type": "code",
   "execution_count": 32,
   "id": "8e1bcb99",
   "metadata": {},
   "outputs": [
    {
     "name": "stdout",
     "output_type": "stream",
     "text": [
      " A data de hoje é 2022-02-13 17:30:17.521371\n",
      " A data de hoje formatada é 13/02/2022\n"
     ]
    }
   ],
   "source": [
    "print(data_hoje)\n",
    "print(hoje)"
   ]
  },
  {
   "cell_type": "code",
   "execution_count": 23,
   "id": "fb92ab69",
   "metadata": {},
   "outputs": [],
   "source": [
    "semana = ['segunda', 'terça', 'quarta', 'quinta', 'sexta']"
   ]
  },
  {
   "cell_type": "code",
   "execution_count": 20,
   "id": "f2940867",
   "metadata": {},
   "outputs": [
    {
     "name": "stdout",
     "output_type": "stream",
     "text": [
      "Hoje não é terça-feira  13/02/2022\n",
      "Hoje é teça-feira, 13/02/2022\n",
      "Hoje não é terça-feira  13/02/2022\n",
      "Hoje não é terça-feira  13/02/2022\n",
      "Hoje não é terça-feira  13/02/2022\n"
     ]
    }
   ],
   "source": [
    "dia = 'terça'\n",
    "\n",
    "for hoje in semana:\n",
    "    if hoje != 'terça':\n",
    "        print('Hoje não é terça-feira',  f' {data:%d/%m/%Y}')\n",
    "    elif hoje == 'terça':\n",
    "        print(f'Hoje é teça-feira, {data:%d/%m/%Y}')\n",
    "    \n"
   ]
  },
  {
   "cell_type": "code",
   "execution_count": 28,
   "id": "0d3c58e6",
   "metadata": {},
   "outputs": [
    {
     "name": "stdout",
     "output_type": "stream",
     "text": [
      "Hoje é domingo, 13/02/2022\n"
     ]
    }
   ],
   "source": [
    "dia = 'domingo'\n",
    "\n",
    "if dia == 'sabado':\n",
    "     print('Hoje não é domingo',  f' {data:%d/%m/%Y}')\n",
    "elif dia == 'domingo':\n",
    "    print(f'Hoje é domingo, {data:%d/%m/%Y}')\n",
    "    \n"
   ]
  },
  {
   "cell_type": "code",
   "execution_count": null,
   "id": "47072221",
   "metadata": {},
   "outputs": [],
   "source": []
  }
 ],
 "metadata": {
  "kernelspec": {
   "display_name": "Python 3",
   "language": "python",
   "name": "python3"
  },
  "language_info": {
   "codemirror_mode": {
    "name": "ipython",
    "version": 3
   },
   "file_extension": ".py",
   "mimetype": "text/x-python",
   "name": "python",
   "nbconvert_exporter": "python",
   "pygments_lexer": "ipython3",
   "version": "3.8.8"
  }
 },
 "nbformat": 4,
 "nbformat_minor": 5
}
